{
  "nbformat": 4,
  "nbformat_minor": 0,
  "metadata": {
    "colab": {
      "provenance": []
    },
    "kernelspec": {
      "name": "python3",
      "display_name": "Python 3"
    },
    "language_info": {
      "name": "python"
    }
  },
  "cells": [
    {
      "cell_type": "code",
      "execution_count": 1,
      "metadata": {
        "colab": {
          "base_uri": "https://localhost:8080/"
        },
        "id": "LacDvwfi35II",
        "outputId": "119fe8f7-3041-4d6a-dc1d-2c4c15ce76f6"
      },
      "outputs": [
        {
          "output_type": "stream",
          "name": "stdout",
          "text": [
            "Epoch 0, Loss: 0.20468751482802816\n",
            "Epoch 100, Loss: 0.19190864187675105\n",
            "Epoch 200, Loss: 0.1939062566913975\n",
            "Epoch 300, Loss: 0.19734619254346936\n",
            "Epoch 400, Loss: 0.20236275812779653\n",
            "Epoch 500, Loss: 0.2087734540247978\n",
            "Epoch 600, Loss: 0.2157403369071227\n",
            "Epoch 700, Loss: 0.22225147367735992\n",
            "Epoch 800, Loss: 0.22769869764231215\n",
            "Epoch 900, Loss: 0.23196813216726458\n",
            "Predicted Output:  [[0.85731713]]\n"
          ]
        }
      ],
      "source": [
        "import numpy as np\n",
        "\n",
        "class NeuralNetwork:\n",
        "    def __init__(self, input_size, hidden_size, output_size):\n",
        "        self.weights_input_hidden = np.random.rand(input_size, hidden_size)\n",
        "        self.bias_hidden = np.zeros((1, hidden_size))\n",
        "        self.weights_hidden_output = np.random.rand(hidden_size, output_size)\n",
        "        self.bias_output = np.zeros((1, output_size))\n",
        "\n",
        "    def sigmoid(self, x):\n",
        "        return 1 / (1 + np.exp(-x))\n",
        "\n",
        "    def sigmoid_derivative(self, x):\n",
        "        return x * (1 - x)\n",
        "\n",
        "    def forward(self, inputs):\n",
        "        self.hidden_layer_activation = np.dot(inputs, self.weights_input_hidden) + self.bias_hidden\n",
        "        self.hidden_layer_output = self.sigmoid(self.hidden_layer_activation)\n",
        "        self.output_layer_activation = np.dot(self.hidden_layer_output, self.weights_hidden_output) + self.bias_output\n",
        "        self.predicted_output = self.sigmoid(self.output_layer_activation)\n",
        "        return self.predicted_output\n",
        "\n",
        "    def backward(self, inputs, targets, learning_rate):\n",
        "        error = targets - self.predicted_output\n",
        "        output_delta = error * self.sigmoid_derivative(self.predicted_output)\n",
        "        hidden_layer_error = output_delta.dot(self.weights_hidden_output.T)\n",
        "        hidden_layer_delta = hidden_layer_error * self.sigmoid_derivative(self.hidden_layer_output)\n",
        "        self.weights_hidden_output += self.hidden_layer_output.T.dot(output_delta) * learning_rate\n",
        "        self.bias_output += np.sum(output_delta, axis=0, keepdims=True) * learning_rate\n",
        "        self.weights_input_hidden += inputs.T.dot(hidden_layer_delta) * learning_rate\n",
        "        self.bias_hidden += np.sum(hidden_layer_delta, axis=0, keepdims=True) * learning_rate\n",
        "\n",
        "    def train(self, inputs, targets, epochs, learning_rate):\n",
        "        for epoch in range(epochs):\n",
        "            for i in range(len(inputs)):\n",
        "                input_data = np.array([inputs[i]])\n",
        "                target_data = np.array([targets[i]])\n",
        "                self.forward(input_data)\n",
        "                self.backward(input_data, target_data, learning_rate)\n",
        "            if epoch % 100 == 0:\n",
        "                loss = np.mean(np.square(targets - self.predicted_output))\n",
        "                print(f\"Epoch {epoch}, Loss: {loss}\")\n",
        "x = np.array([[0, 0],\n",
        "              [0, 1],\n",
        "              [1, 0],\n",
        "              [1, 1]])\n",
        "\n",
        "y = np.array([[0], [1], [1], [1]])\n",
        "input_size = x.shape[1]\n",
        "hidden_size = 4\n",
        "output_size = 1\n",
        "epochs = 1000\n",
        "learning_rate = 0.1\n",
        "nn = NeuralNetwork(input_size, hidden_size, output_size)\n",
        "nn.train(x, y, epochs, learning_rate)\n",
        "new_data = np.array([[0.8, 0.2]])\n",
        "predicted_output = nn.forward(new_data)\n",
        "print(\"Predicted Output: \", predicted_output)"
      ]
    }
  ]
}