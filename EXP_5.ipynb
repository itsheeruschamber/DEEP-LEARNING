{
  "nbformat": 4,
  "nbformat_minor": 0,
  "metadata": {
    "colab": {
      "provenance": []
    },
    "kernelspec": {
      "name": "python3",
      "display_name": "Python 3"
    },
    "language_info": {
      "name": "python"
    }
  },
  "cells": [
    {
      "cell_type": "code",
      "execution_count": 1,
      "metadata": {
        "colab": {
          "base_uri": "https://localhost:8080/"
        },
        "id": "xAc2b5Kotg7e",
        "outputId": "37801870-4499-4492-bc13-73bf1ad09c20"
      },
      "outputs": [
        {
          "output_type": "stream",
          "name": "stdout",
          "text": [
            "Downloading data from https://storage.googleapis.com/tensorflow/tf-keras-datasets/imdb.npz\n",
            "17464789/17464789 [==============================] - 1s 0us/step\n",
            "Epoch 1/3\n",
            "313/313 [==============================] - 85s 257ms/step - loss: 0.4574 - accuracy: 0.7761 - val_loss: 0.3412 - val_accuracy: 0.8538\n",
            "Epoch 2/3\n",
            "313/313 [==============================] - 81s 259ms/step - loss: 0.2397 - accuracy: 0.9042 - val_loss: 0.3248 - val_accuracy: 0.8672\n",
            "Epoch 3/3\n",
            "313/313 [==============================] - 74s 238ms/step - loss: 0.1558 - accuracy: 0.9424 - val_loss: 0.3595 - val_accuracy: 0.8700\n",
            "782/782 [==============================] - 23s 29ms/step - loss: 0.3824 - accuracy: 0.8622\n",
            "GRU Model - Test Loss: 0.3824, Test Accuracy: 0.8622\n",
            "Epoch 1/3\n",
            "313/313 [==============================] - 87s 270ms/step - loss: 0.4267 - accuracy: 0.7945 - val_loss: 0.3090 - val_accuracy: 0.8714\n",
            "Epoch 2/3\n",
            "313/313 [==============================] - 88s 280ms/step - loss: 0.2307 - accuracy: 0.9113 - val_loss: 0.3191 - val_accuracy: 0.8744\n",
            "Epoch 3/3\n",
            "313/313 [==============================] - 89s 285ms/step - loss: 0.1579 - accuracy: 0.9402 - val_loss: 0.3785 - val_accuracy: 0.8416\n",
            "782/782 [==============================] - 27s 35ms/step - loss: 0.3825 - accuracy: 0.8414\n",
            "LSTM Model - Test Loss: 0.3825, Test Accuracy: 0.8414\n"
          ]
        }
      ],
      "source": [
        "import numpy as np\n",
        "from tensorflow.keras.datasets import imdb\n",
        "from tensorflow.keras.models import Sequential\n",
        "from tensorflow.keras.layers import Embedding, GRU, LSTM, Dense\n",
        "from tensorflow.keras.preprocessing.sequence import pad_sequences\n",
        "from tensorflow.keras.utils import to_categorical\n",
        "from sklearn.model_selection import train_test_split\n",
        "\n",
        "# Load the IMDB dataset\n",
        "vocab_size = 10000\n",
        "max_len = 200\n",
        "(X_train, y_train), (X_test, y_test) = imdb.load_data(num_words=vocab_size)\n",
        "\n",
        "# Pad sequences to a fixed length\n",
        "X_train = pad_sequences(X_train, maxlen=max_len)\n",
        "X_test = pad_sequences(X_test, maxlen=max_len)\n",
        "\n",
        "# One-hot encode the labels\n",
        "y_train = to_categorical(y_train, num_classes=2)\n",
        "y_test = to_categorical(y_test, num_classes=2)\n",
        "\n",
        "# Split the training data into training and validation sets\n",
        "X_train, X_val, y_train, y_val = train_test_split(X_train, y_train, test_size=0.2, random_state=42)\n",
        "\n",
        "# Define a GRU-based model\n",
        "model_gru = Sequential()\n",
        "model_gru.add(Embedding(vocab_size, 128, input_length=max_len))\n",
        "model_gru.add(GRU(64))\n",
        "model_gru.add(Dense(2, activation='softmax'))\n",
        "model_gru.compile(optimizer='adam', loss='categorical_crossentropy', metrics=['accuracy'])\n",
        "\n",
        "# Train the GRU model\n",
        "model_gru.fit(X_train, y_train, validation_data=(X_val, y_val), epochs=3, batch_size=64)\n",
        "\n",
        "# Evaluate the GRU model\n",
        "gru_loss, gru_accuracy = model_gru.evaluate(X_test, y_test)\n",
        "print(f\"GRU Model - Test Loss: {gru_loss:.4f}, Test Accuracy: {gru_accuracy:.4f}\")\n",
        "\n",
        "# Define an LSTM-based model\n",
        "model_lstm = Sequential()\n",
        "model_lstm.add(Embedding(vocab_size, 128, input_length=max_len))\n",
        "model_lstm.add(LSTM(64))\n",
        "model_lstm.add(Dense(2, activation='softmax'))\n",
        "model_lstm.compile(optimizer='adam', loss='categorical_crossentropy', metrics=['accuracy'])\n",
        "\n",
        "# Train the LSTM model\n",
        "model_lstm.fit(X_train, y_train, validation_data=(X_val, y_val), epochs=3, batch_size=64)\n",
        "\n",
        "# Evaluate the LSTM model\n",
        "lstm_loss, lstm_accuracy = model_lstm.evaluate(X_test, y_test)\n",
        "print(f\"LSTM Model - Test Loss: {lstm_loss:.4f}, Test Accuracy: {lstm_accuracy:.4f}\")\n"
      ]
    }
  ]
}